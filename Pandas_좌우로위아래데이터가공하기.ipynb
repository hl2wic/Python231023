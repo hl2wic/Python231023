{
 "cells": [
  {
   "cell_type": "code",
   "execution_count": 12,
   "metadata": {},
   "outputs": [
    {
     "data": {
      "text/html": [
       "<div>\n",
       "<style scoped>\n",
       "    .dataframe tbody tr th:only-of-type {\n",
       "        vertical-align: middle;\n",
       "    }\n",
       "\n",
       "    .dataframe tbody tr th {\n",
       "        vertical-align: top;\n",
       "    }\n",
       "\n",
       "    .dataframe thead th {\n",
       "        text-align: right;\n",
       "    }\n",
       "</style>\n",
       "<table border=\"1\" class=\"dataframe\">\n",
       "  <thead>\n",
       "    <tr style=\"text-align: right;\">\n",
       "      <th></th>\n",
       "      <th>사번</th>\n",
       "      <th>성별</th>\n",
       "      <th>나이</th>\n",
       "      <th>판매금액</th>\n",
       "      <th>수입</th>\n",
       "    </tr>\n",
       "  </thead>\n",
       "  <tbody>\n",
       "    <tr>\n",
       "      <th>0</th>\n",
       "      <td>E001</td>\n",
       "      <td>M</td>\n",
       "      <td>34</td>\n",
       "      <td>123</td>\n",
       "      <td>350</td>\n",
       "    </tr>\n",
       "    <tr>\n",
       "      <th>1</th>\n",
       "      <td>E002</td>\n",
       "      <td>F</td>\n",
       "      <td>40</td>\n",
       "      <td>114</td>\n",
       "      <td>450</td>\n",
       "    </tr>\n",
       "    <tr>\n",
       "      <th>2</th>\n",
       "      <td>E003</td>\n",
       "      <td>F</td>\n",
       "      <td>37</td>\n",
       "      <td>135</td>\n",
       "      <td>169</td>\n",
       "    </tr>\n",
       "    <tr>\n",
       "      <th>3</th>\n",
       "      <td>E004</td>\n",
       "      <td>M</td>\n",
       "      <td>30</td>\n",
       "      <td>139</td>\n",
       "      <td>189</td>\n",
       "    </tr>\n",
       "    <tr>\n",
       "      <th>4</th>\n",
       "      <td>E005</td>\n",
       "      <td>F</td>\n",
       "      <td>44</td>\n",
       "      <td>117</td>\n",
       "      <td>183</td>\n",
       "    </tr>\n",
       "    <tr>\n",
       "      <th>5</th>\n",
       "      <td>E006</td>\n",
       "      <td>M</td>\n",
       "      <td>36</td>\n",
       "      <td>121</td>\n",
       "      <td>90</td>\n",
       "    </tr>\n",
       "    <tr>\n",
       "      <th>6</th>\n",
       "      <td>E007</td>\n",
       "      <td>M</td>\n",
       "      <td>32</td>\n",
       "      <td>133</td>\n",
       "      <td>166</td>\n",
       "    </tr>\n",
       "    <tr>\n",
       "      <th>7</th>\n",
       "      <td>E008</td>\n",
       "      <td>F</td>\n",
       "      <td>26</td>\n",
       "      <td>140</td>\n",
       "      <td>120</td>\n",
       "    </tr>\n",
       "    <tr>\n",
       "      <th>8</th>\n",
       "      <td>E009</td>\n",
       "      <td>M</td>\n",
       "      <td>32</td>\n",
       "      <td>133</td>\n",
       "      <td>75</td>\n",
       "    </tr>\n",
       "    <tr>\n",
       "      <th>9</th>\n",
       "      <td>E010</td>\n",
       "      <td>M</td>\n",
       "      <td>36</td>\n",
       "      <td>133</td>\n",
       "      <td>40</td>\n",
       "    </tr>\n",
       "  </tbody>\n",
       "</table>\n",
       "</div>"
      ],
      "text/plain": [
       "     사번 성별  나이  판매금액   수입\n",
       "0  E001  M  34   123  350\n",
       "1  E002  F  40   114  450\n",
       "2  E003  F  37   135  169\n",
       "3  E004  M  30   139  189\n",
       "4  E005  F  44   117  183\n",
       "5  E006  M  36   121   90\n",
       "6  E007  M  32   133  166\n",
       "7  E008  F  26   140  120\n",
       "8  E009  M  32   133   75\n",
       "9  E010  M  36   133   40"
      ]
     },
     "execution_count": 12,
     "metadata": {},
     "output_type": "execute_result"
    }
   ],
   "source": [
    "#엑셀 파일 읽기\n",
    "import pandas as pd \n",
    "import matplotlib.pyplot as plt\n",
    "%matplotlib inline  \n",
    "dfExcel = pd.read_excel('c:\\\\work2\\\\demo.xlsx', 'Sheet1')\n",
    "\n",
    "dfExcel"
   ]
  },
  {
   "cell_type": "code",
   "execution_count": 13,
   "metadata": {},
   "outputs": [
    {
     "data": {
      "text/plain": [
       "<Axes: title={'center': '남녀별 판매금액 합계'}, xlabel='성별', ylabel='판매금액 합계'>"
      ]
     },
     "execution_count": 13,
     "metadata": {},
     "output_type": "execute_result"
    },
    {
     "name": "stderr",
     "output_type": "stream",
     "text": [
      "C:\\Users\\student\\AppData\\Roaming\\Python\\Python310\\site-packages\\IPython\\core\\events.py:93: UserWarning: Glyph 54032 (\\N{HANGUL SYLLABLE PAN}) missing from current font.\n",
      "  func(*args, **kwargs)\n",
      "C:\\Users\\student\\AppData\\Roaming\\Python\\Python310\\site-packages\\IPython\\core\\events.py:93: UserWarning: Glyph 47588 (\\N{HANGUL SYLLABLE MAE}) missing from current font.\n",
      "  func(*args, **kwargs)\n",
      "C:\\Users\\student\\AppData\\Roaming\\Python\\Python310\\site-packages\\IPython\\core\\events.py:93: UserWarning: Glyph 44552 (\\N{HANGUL SYLLABLE GEUM}) missing from current font.\n",
      "  func(*args, **kwargs)\n",
      "C:\\Users\\student\\AppData\\Roaming\\Python\\Python310\\site-packages\\IPython\\core\\events.py:93: UserWarning: Glyph 50529 (\\N{HANGUL SYLLABLE AEG}) missing from current font.\n",
      "  func(*args, **kwargs)\n",
      "C:\\Users\\student\\AppData\\Roaming\\Python\\Python310\\site-packages\\IPython\\core\\events.py:93: UserWarning: Glyph 54633 (\\N{HANGUL SYLLABLE HAB}) missing from current font.\n",
      "  func(*args, **kwargs)\n",
      "C:\\Users\\student\\AppData\\Roaming\\Python\\Python310\\site-packages\\IPython\\core\\events.py:93: UserWarning: Glyph 44228 (\\N{HANGUL SYLLABLE GYE}) missing from current font.\n",
      "  func(*args, **kwargs)\n",
      "C:\\Users\\student\\AppData\\Roaming\\Python\\Python310\\site-packages\\IPython\\core\\events.py:93: UserWarning: Glyph 45224 (\\N{HANGUL SYLLABLE NAM}) missing from current font.\n",
      "  func(*args, **kwargs)\n",
      "C:\\Users\\student\\AppData\\Roaming\\Python\\Python310\\site-packages\\IPython\\core\\events.py:93: UserWarning: Glyph 45376 (\\N{HANGUL SYLLABLE NYEO}) missing from current font.\n",
      "  func(*args, **kwargs)\n",
      "C:\\Users\\student\\AppData\\Roaming\\Python\\Python310\\site-packages\\IPython\\core\\events.py:93: UserWarning: Glyph 48324 (\\N{HANGUL SYLLABLE BYEOL}) missing from current font.\n",
      "  func(*args, **kwargs)\n",
      "C:\\Users\\student\\AppData\\Roaming\\Python\\Python310\\site-packages\\IPython\\core\\events.py:93: UserWarning: Glyph 49457 (\\N{HANGUL SYLLABLE SEONG}) missing from current font.\n",
      "  func(*args, **kwargs)\n",
      "C:\\Users\\student\\AppData\\Roaming\\Python\\Python310\\site-packages\\IPython\\core\\pylabtools.py:152: UserWarning: Glyph 54032 (\\N{HANGUL SYLLABLE PAN}) missing from current font.\n",
      "  fig.canvas.print_figure(bytes_io, **kw)\n",
      "C:\\Users\\student\\AppData\\Roaming\\Python\\Python310\\site-packages\\IPython\\core\\pylabtools.py:152: UserWarning: Glyph 47588 (\\N{HANGUL SYLLABLE MAE}) missing from current font.\n",
      "  fig.canvas.print_figure(bytes_io, **kw)\n",
      "C:\\Users\\student\\AppData\\Roaming\\Python\\Python310\\site-packages\\IPython\\core\\pylabtools.py:152: UserWarning: Glyph 44552 (\\N{HANGUL SYLLABLE GEUM}) missing from current font.\n",
      "  fig.canvas.print_figure(bytes_io, **kw)\n",
      "C:\\Users\\student\\AppData\\Roaming\\Python\\Python310\\site-packages\\IPython\\core\\pylabtools.py:152: UserWarning: Glyph 50529 (\\N{HANGUL SYLLABLE AEG}) missing from current font.\n",
      "  fig.canvas.print_figure(bytes_io, **kw)\n",
      "C:\\Users\\student\\AppData\\Roaming\\Python\\Python310\\site-packages\\IPython\\core\\pylabtools.py:152: UserWarning: Glyph 54633 (\\N{HANGUL SYLLABLE HAB}) missing from current font.\n",
      "  fig.canvas.print_figure(bytes_io, **kw)\n",
      "C:\\Users\\student\\AppData\\Roaming\\Python\\Python310\\site-packages\\IPython\\core\\pylabtools.py:152: UserWarning: Glyph 44228 (\\N{HANGUL SYLLABLE GYE}) missing from current font.\n",
      "  fig.canvas.print_figure(bytes_io, **kw)\n",
      "C:\\Users\\student\\AppData\\Roaming\\Python\\Python310\\site-packages\\IPython\\core\\pylabtools.py:152: UserWarning: Glyph 45224 (\\N{HANGUL SYLLABLE NAM}) missing from current font.\n",
      "  fig.canvas.print_figure(bytes_io, **kw)\n",
      "C:\\Users\\student\\AppData\\Roaming\\Python\\Python310\\site-packages\\IPython\\core\\pylabtools.py:152: UserWarning: Glyph 45376 (\\N{HANGUL SYLLABLE NYEO}) missing from current font.\n",
      "  fig.canvas.print_figure(bytes_io, **kw)\n",
      "C:\\Users\\student\\AppData\\Roaming\\Python\\Python310\\site-packages\\IPython\\core\\pylabtools.py:152: UserWarning: Glyph 48324 (\\N{HANGUL SYLLABLE BYEOL}) missing from current font.\n",
      "  fig.canvas.print_figure(bytes_io, **kw)\n",
      "C:\\Users\\student\\AppData\\Roaming\\Python\\Python310\\site-packages\\IPython\\core\\pylabtools.py:152: UserWarning: Glyph 49457 (\\N{HANGUL SYLLABLE SEONG}) missing from current font.\n",
      "  fig.canvas.print_figure(bytes_io, **kw)\n"
     ]
    },
    {
     "data": {
      "image/png": "[encoded data removed]",
      "text/plain": [
       "<Figure size 640x480 with 1 Axes>"
      ]
     },
     "metadata": {},
     "output_type": "display_data"
    }
   ],
   "source": [
    "#남녀별 판매금액 합계 \n",
    "var = dfExcel.groupby('성별').판매금액.sum()\n",
    "fig = plt.figure()\n",
    "ax1 = fig.add_subplot(1, 1, 1)\n",
    "ax1.set_xlabel('성별')\n",
    "ax1.set_ylabel('판매금액 합계')\n",
    "ax1.set_title('남녀별 판매금액 합계')\n",
    "var.plot(kind='bar')"
   ]
  },
  {
   "cell_type": "code",
   "execution_count": 14,
   "metadata": {},
   "outputs": [
    {
     "data": {
      "text/plain": [
       "Text(0.5, 0, '단계')"
      ]
     },
     "execution_count": 14,
     "metadata": {},
     "output_type": "execute_result"
    },
    {
     "name": "stderr",
     "output_type": "stream",
     "text": [
      "C:\\Users\\student\\AppData\\Roaming\\Python\\Python310\\site-packages\\IPython\\core\\events.py:93: UserWarning: Glyph 45936 (\\N{HANGUL SYLLABLE DE}) missing from current font.\n",
      "  func(*args, **kwargs)\n",
      "C:\\Users\\student\\AppData\\Roaming\\Python\\Python310\\site-packages\\IPython\\core\\events.py:93: UserWarning: Glyph 47784 (\\N{HANGUL SYLLABLE MO}) missing from current font.\n",
      "  func(*args, **kwargs)\n",
      "C:\\Users\\student\\AppData\\Roaming\\Python\\Python310\\site-packages\\IPython\\core\\events.py:93: UserWarning: Glyph 52264 (\\N{HANGUL SYLLABLE CA}) missing from current font.\n",
      "  func(*args, **kwargs)\n",
      "C:\\Users\\student\\AppData\\Roaming\\Python\\Python310\\site-packages\\IPython\\core\\events.py:93: UserWarning: Glyph 53944 (\\N{HANGUL SYLLABLE TEU}) missing from current font.\n",
      "  func(*args, **kwargs)\n",
      "C:\\Users\\student\\AppData\\Roaming\\Python\\Python310\\site-packages\\IPython\\core\\events.py:93: UserWarning: Glyph 54616 (\\N{HANGUL SYLLABLE HA}) missing from current font.\n",
      "  func(*args, **kwargs)\n",
      "C:\\Users\\student\\AppData\\Roaming\\Python\\Python310\\site-packages\\IPython\\core\\events.py:93: UserWarning: Glyph 45208 (\\N{HANGUL SYLLABLE NA}) missing from current font.\n",
      "  func(*args, **kwargs)\n",
      "C:\\Users\\student\\AppData\\Roaming\\Python\\Python310\\site-packages\\IPython\\core\\events.py:93: UserWarning: Glyph 46168 (\\N{HANGUL SYLLABLE DUL}) missing from current font.\n",
      "  func(*args, **kwargs)\n",
      "C:\\Users\\student\\AppData\\Roaming\\Python\\Python310\\site-packages\\IPython\\core\\events.py:93: UserWarning: Glyph 49483 (\\N{HANGUL SYLLABLE SES}) missing from current font.\n",
      "  func(*args, **kwargs)\n",
      "C:\\Users\\student\\AppData\\Roaming\\Python\\Python310\\site-packages\\IPython\\core\\events.py:93: UserWarning: Glyph 45367 (\\N{HANGUL SYLLABLE NES}) missing from current font.\n",
      "  func(*args, **kwargs)\n",
      "C:\\Users\\student\\AppData\\Roaming\\Python\\Python310\\site-packages\\IPython\\core\\events.py:93: UserWarning: Glyph 45796 (\\N{HANGUL SYLLABLE DA}) missing from current font.\n",
      "  func(*args, **kwargs)\n",
      "C:\\Users\\student\\AppData\\Roaming\\Python\\Python310\\site-packages\\IPython\\core\\events.py:93: UserWarning: Glyph 49455 (\\N{HANGUL SYLLABLE SEOS}) missing from current font.\n",
      "  func(*args, **kwargs)\n",
      "C:\\Users\\student\\AppData\\Roaming\\Python\\Python310\\site-packages\\IPython\\core\\events.py:93: UserWarning: Glyph 45800 (\\N{HANGUL SYLLABLE DAN}) missing from current font.\n",
      "  func(*args, **kwargs)\n",
      "C:\\Users\\student\\AppData\\Roaming\\Python\\Python310\\site-packages\\IPython\\core\\events.py:93: UserWarning: Glyph 44228 (\\N{HANGUL SYLLABLE GYE}) missing from current font.\n",
      "  func(*args, **kwargs)\n",
      "C:\\Users\\student\\AppData\\Roaming\\Python\\Python310\\site-packages\\IPython\\core\\pylabtools.py:152: UserWarning: Glyph 45936 (\\N{HANGUL SYLLABLE DE}) missing from current font.\n",
      "  fig.canvas.print_figure(bytes_io, **kw)\n",
      "C:\\Users\\student\\AppData\\Roaming\\Python\\Python310\\site-packages\\IPython\\core\\pylabtools.py:152: UserWarning: Glyph 47784 (\\N{HANGUL SYLLABLE MO}) missing from current font.\n",
      "  fig.canvas.print_figure(bytes_io, **kw)\n",
      "C:\\Users\\student\\AppData\\Roaming\\Python\\Python310\\site-packages\\IPython\\core\\pylabtools.py:152: UserWarning: Glyph 52264 (\\N{HANGUL SYLLABLE CA}) missing from current font.\n",
      "  fig.canvas.print_figure(bytes_io, **kw)\n",
      "C:\\Users\\student\\AppData\\Roaming\\Python\\Python310\\site-packages\\IPython\\core\\pylabtools.py:152: UserWarning: Glyph 53944 (\\N{HANGUL SYLLABLE TEU}) missing from current font.\n",
      "  fig.canvas.print_figure(bytes_io, **kw)\n",
      "C:\\Users\\student\\AppData\\Roaming\\Python\\Python310\\site-packages\\IPython\\core\\pylabtools.py:152: UserWarning: Glyph 54616 (\\N{HANGUL SYLLABLE HA}) missing from current font.\n",
      "  fig.canvas.print_figure(bytes_io, **kw)\n",
      "C:\\Users\\student\\AppData\\Roaming\\Python\\Python310\\site-packages\\IPython\\core\\pylabtools.py:152: UserWarning: Glyph 45208 (\\N{HANGUL SYLLABLE NA}) missing from current font.\n",
      "  fig.canvas.print_figure(bytes_io, **kw)\n",
      "C:\\Users\\student\\AppData\\Roaming\\Python\\Python310\\site-packages\\IPython\\core\\pylabtools.py:152: UserWarning: Glyph 46168 (\\N{HANGUL SYLLABLE DUL}) missing from current font.\n",
      "  fig.canvas.print_figure(bytes_io, **kw)\n",
      "C:\\Users\\student\\AppData\\Roaming\\Python\\Python310\\site-packages\\IPython\\core\\pylabtools.py:152: UserWarning: Glyph 49483 (\\N{HANGUL SYLLABLE SES}) missing from current font.\n",
      "  fig.canvas.print_figure(bytes_io, **kw)\n",
      "C:\\Users\\student\\AppData\\Roaming\\Python\\Python310\\site-packages\\IPython\\core\\pylabtools.py:152: UserWarning: Glyph 45367 (\\N{HANGUL SYLLABLE NES}) missing from current font.\n",
      "  fig.canvas.print_figure(bytes_io, **kw)\n",
      "C:\\Users\\student\\AppData\\Roaming\\Python\\Python310\\site-packages\\IPython\\core\\pylabtools.py:152: UserWarning: Glyph 45796 (\\N{HANGUL SYLLABLE DA}) missing from current font.\n",
      "  fig.canvas.print_figure(bytes_io, **kw)\n",
      "C:\\Users\\student\\AppData\\Roaming\\Python\\Python310\\site-packages\\IPython\\core\\pylabtools.py:152: UserWarning: Glyph 49455 (\\N{HANGUL SYLLABLE SEOS}) missing from current font.\n",
      "  fig.canvas.print_figure(bytes_io, **kw)\n",
      "C:\\Users\\student\\AppData\\Roaming\\Python\\Python310\\site-packages\\IPython\\core\\pylabtools.py:152: UserWarning: Glyph 45800 (\\N{HANGUL SYLLABLE DAN}) missing from current font.\n",
      "  fig.canvas.print_figure(bytes_io, **kw)\n",
      "C:\\Users\\student\\AppData\\Roaming\\Python\\Python310\\site-packages\\IPython\\core\\pylabtools.py:152: UserWarning: Glyph 44228 (\\N{HANGUL SYLLABLE GYE}) missing from current font.\n",
      "  fig.canvas.print_figure(bytes_io, **kw)\n"
     ]
    },
    {
     "data": {
      "image/png": "[encoded data removed]",
      "text/plain": [
       "<Figure size 1000x600 with 1 Axes>"
      ]
     },
     "metadata": {},
     "output_type": "display_data"
    }
   ],
   "source": [
    "#눈금과 눈금간격, 범례를 지정하기 \n",
    "%matplotlib inline\n",
    "import matplotlib.pyplot as plt \n",
    "import numpy as np \n",
    "\n",
    "fig = plt.figure(figsize=(10,6))\n",
    "ax = fig.add_subplot(1, 1, 1)\n",
    "ax.plot(np.random.randn(1000).cumsum())\n",
    "ticks = ax.set_xticks([0, 250, 500, 750, 1000])\n",
    "labels = ax.set_xticklabels(['하나', '둘', '셋', '넷', '다섯'], \n",
    "    rotation=30, fontsize='large')\n",
    "ax.set_title('데모 차트')\n",
    "ax.set_xlabel('단계')"
   ]
  },
  {
   "cell_type": "code",
   "execution_count": 15,
   "metadata": {},
   "outputs": [
    {
     "name": "stdout",
     "output_type": "stream",
     "text": [
      "  key1 key2     data1     data2\n",
      "0    a  one  1.186673  0.088147\n",
      "1    a  two -1.238036 -1.819865\n",
      "2    b  one  0.013267  1.235029\n",
      "3    b  two  0.645056 -1.061320\n",
      "4    a  one  1.052627 -0.928821\n",
      "<pandas.core.groupby.generic.SeriesGroupBy object at 0x000001DCF0181330>\n"
     ]
    }
   ],
   "source": [
    "#groupby()메서드 사용 \n",
    "from pandas import Series, DataFrame\n",
    "\n",
    "df = DataFrame({'key1':['a','a','b','b','a'], \n",
    "                'key2':['one','two','one','two','one'], \n",
    "                'data1':np.random.randn(5), \n",
    "                'data2':np.random.randn(5)})\n",
    "\n",
    "print( df ) \n",
    "\n",
    "grouped = df.groupby(\"key1\")[\"data1\"]\n",
    "\n",
    "print( grouped )\n"
   ]
  },
  {
   "cell_type": "code",
   "execution_count": 16,
   "metadata": {},
   "outputs": [
    {
     "name": "stdout",
     "output_type": "stream",
     "text": [
      "key1\n",
      "a    0.333754\n",
      "b    0.329161\n",
      "Name: data1, dtype: float64\n",
      "key1\n",
      "a    1.001263\n",
      "b    0.658323\n",
      "Name: data1, dtype: float64\n",
      "key1\n",
      "a    3\n",
      "b    2\n",
      "Name: data1, dtype: int64\n"
     ]
    }
   ],
   "source": [
    "print( grouped.mean() )\n",
    "print( grouped.sum() )\n",
    "print( grouped.count() )"
   ]
  },
  {
   "cell_type": "code",
   "execution_count": 17,
   "metadata": {},
   "outputs": [
    {
     "data": {
      "text/plain": [
       "key1  key2\n",
       "a     one     1.119650\n",
       "      two    -1.238036\n",
       "b     one     0.013267\n",
       "      two     0.645056\n",
       "Name: data1, dtype: float64"
      ]
     },
     "execution_count": 17,
     "metadata": {},
     "output_type": "execute_result"
    }
   ],
   "source": [
    "means = df.groupby( [\"key1\",\"key2\"] )[\"data1\"].mean()\n",
    "means"
   ]
  },
  {
   "cell_type": "code",
   "execution_count": 18,
   "metadata": {
    "collapsed": true
   },
   "outputs": [],
   "source": [
    "# concat 메서드는 기본적으로 같은 컬럼 레이블을 갖는 \n",
    "# 데이터프레임 객체를 위/아래로 연결합니다. \n",
    "# axis=1 파라미터를 전달하면 리스트로 전달된 데이터프레임을 \n",
    "# 좌/우로 연결합니다. \n",
    "# 이때 데이터프레임들은 인덱스를 기준으로 데이터를 연결합니다.\n",
    "from pandas import DataFrame \n",
    "import pandas as pd \n",
    "#첫번째 데이터프레임\n",
    "data = { \n",
    "        '종가':[113000,111500],\n",
    "        '거래량':[555850, 282163]\n",
    "        }\n",
    "index = ['2019-06-21','2019-06-20']\n",
    "df1 = DataFrame(data=data, index=index)\n",
    "#두번째\n",
    "data = { \n",
    "        '시가':[112500,111000],\n",
    "        '고가':[115000, 112000],\n",
    "        '저가':[111500, 109000]\n",
    "        }\n",
    "index = ['2019-06-21','2019-06-20']\n",
    "df2 = DataFrame(data=data, index=index)"
   ]
  },
  {
   "cell_type": "code",
   "execution_count": 19,
   "metadata": {},
   "outputs": [
    {
     "data": {
      "text/html": [
       "<div>\n",
       "<style scoped>\n",
       "    .dataframe tbody tr th:only-of-type {\n",
       "        vertical-align: middle;\n",
       "    }\n",
       "\n",
       "    .dataframe tbody tr th {\n",
       "        vertical-align: top;\n",
       "    }\n",
       "\n",
       "    .dataframe thead th {\n",
       "        text-align: right;\n",
       "    }\n",
       "</style>\n",
       "<table border=\"1\" class=\"dataframe\">\n",
       "  <thead>\n",
       "    <tr style=\"text-align: right;\">\n",
       "      <th></th>\n",
       "      <th>종가</th>\n",
       "      <th>거래량</th>\n",
       "      <th>시가</th>\n",
       "      <th>고가</th>\n",
       "      <th>저가</th>\n",
       "    </tr>\n",
       "  </thead>\n",
       "  <tbody>\n",
       "    <tr>\n",
       "      <th>2019-06-21</th>\n",
       "      <td>113000</td>\n",
       "      <td>555850</td>\n",
       "      <td>112500</td>\n",
       "      <td>115000</td>\n",
       "      <td>111500</td>\n",
       "    </tr>\n",
       "    <tr>\n",
       "      <th>2019-06-20</th>\n",
       "      <td>111500</td>\n",
       "      <td>282163</td>\n",
       "      <td>111000</td>\n",
       "      <td>112000</td>\n",
       "      <td>109000</td>\n",
       "    </tr>\n",
       "  </tbody>\n",
       "</table>\n",
       "</div>"
      ],
      "text/plain": [
       "                종가     거래량      시가      고가      저가\n",
       "2019-06-21  113000  555850  112500  115000  111500\n",
       "2019-06-20  111500  282163  111000  112000  109000"
      ]
     },
     "execution_count": 19,
     "metadata": {},
     "output_type": "execute_result"
    }
   ],
   "source": [
    "df = pd.concat([df1, df2], axis=1)\n",
    "#좌우로 붙이기 \n",
    "df\n"
   ]
  },
  {
   "cell_type": "code",
   "execution_count": 20,
   "metadata": {},
   "outputs": [
    {
     "name": "stdout",
     "output_type": "stream",
     "text": [
      "---정렬순서를 변경---\n"
     ]
    },
    {
     "data": {
      "text/html": [
       "<div>\n",
       "<style scoped>\n",
       "    .dataframe tbody tr th:only-of-type {\n",
       "        vertical-align: middle;\n",
       "    }\n",
       "\n",
       "    .dataframe tbody tr th {\n",
       "        vertical-align: top;\n",
       "    }\n",
       "\n",
       "    .dataframe thead th {\n",
       "        text-align: right;\n",
       "    }\n",
       "</style>\n",
       "<table border=\"1\" class=\"dataframe\">\n",
       "  <thead>\n",
       "    <tr style=\"text-align: right;\">\n",
       "      <th></th>\n",
       "      <th>시가</th>\n",
       "      <th>고가</th>\n",
       "      <th>저가</th>\n",
       "      <th>종가</th>\n",
       "      <th>거래량</th>\n",
       "    </tr>\n",
       "  </thead>\n",
       "  <tbody>\n",
       "    <tr>\n",
       "      <th>2019-06-21</th>\n",
       "      <td>112500</td>\n",
       "      <td>115000</td>\n",
       "      <td>111500</td>\n",
       "      <td>113000</td>\n",
       "      <td>555850</td>\n",
       "    </tr>\n",
       "    <tr>\n",
       "      <th>2019-06-20</th>\n",
       "      <td>111000</td>\n",
       "      <td>112000</td>\n",
       "      <td>109000</td>\n",
       "      <td>111500</td>\n",
       "      <td>282163</td>\n",
       "    </tr>\n",
       "  </tbody>\n",
       "</table>\n",
       "</div>"
      ],
      "text/plain": [
       "                시가      고가      저가      종가     거래량\n",
       "2019-06-21  112500  115000  111500  113000  555850\n",
       "2019-06-20  111000  112000  109000  111500  282163"
      ]
     },
     "execution_count": 20,
     "metadata": {},
     "output_type": "execute_result"
    }
   ],
   "source": [
    "#컬럼을 순서를 변경해 봅니다.\n",
    "print(\"---정렬순서를 변경---\")\n",
    "정렬순서 = ['시가','고가','저가','종가','거래량']\n",
    "df = df[정렬순서]\n",
    "df"
   ]
  },
  {
   "cell_type": "code",
   "execution_count": 21,
   "metadata": {},
   "outputs": [
    {
     "name": "stdout",
     "output_type": "stream",
     "text": [
      "                종가     거래량\n",
      "2019-06-21  113000  555850\n",
      "2019-06-20  111500  282163\n",
      "                종가     거래량\n",
      "2019-06-19  110000  109000\n",
      "2019-06-18  483689  791946\n"
     ]
    }
   ],
   "source": [
    "#위/아래로 붙이기 \n",
    "# 이번에는 데이터프레임을 위/아래로 이어 붙여 보겠습니다. \n",
    "# 두 개의 데이터프레임의 컬럼을 기준으로 정렬한 후 위/아래로 붙여서 \n",
    "# 새로운 데이터프레임을 생성할 수 있습니다. \n",
    "from pandas import DataFrame\n",
    "import pandas as pd\n",
    "\n",
    "# 첫 번째 데이터프레임\n",
    "data = {\n",
    "    '종가': [113000, 111500],\n",
    "    '거래량': [555850, 282163]\n",
    "}\n",
    "index = [\"2019-06-21\", \"2019-06-20\"]\n",
    "df1 = DataFrame(data, index=index)\n",
    "\n",
    "# 두 번째 데이터프레임\n",
    "data = {\n",
    "    '종가': [110000, 483689],\n",
    "    '거래량': [109000, 791946]\n",
    "}\n",
    "index = [\"2019-06-19\", \"2019-06-18\"]\n",
    "df2 = DataFrame(data, index=index)\n",
    "\n",
    "print( df1 )\n",
    "print( df2 )"
   ]
  },
  {
   "cell_type": "code",
   "execution_count": 22,
   "metadata": {},
   "outputs": [
    {
     "name": "stdout",
     "output_type": "stream",
     "text": [
      "---위아래 붙이기---\n"
     ]
    },
    {
     "ename": "AttributeError",
     "evalue": "'DataFrame' object has no attribute 'append'",
     "output_type": "error",
     "traceback": [
      "\u001b[1;31m---------------------------------------------------------------------------\u001b[0m",
      "\u001b[1;31mAttributeError\u001b[0m                            Traceback (most recent call last)",
      "Cell \u001b[1;32mIn[22], line 2\u001b[0m\n\u001b[0;32m      1\u001b[0m \u001b[39mprint\u001b[39m(\u001b[39m\"\u001b[39m\u001b[39m---위아래 붙이기---\u001b[39m\u001b[39m\"\u001b[39m)\n\u001b[1;32m----> 2\u001b[0m df \u001b[39m=\u001b[39m df1\u001b[39m.\u001b[39;49mappend(df2)\n\u001b[0;32m      3\u001b[0m df\n",
      "File \u001b[1;32mc:\\Python310\\lib\\site-packages\\pandas\\core\\generic.py:6204\u001b[0m, in \u001b[0;36mNDFrame.__getattr__\u001b[1;34m(self, name)\u001b[0m\n\u001b[0;32m   6197\u001b[0m \u001b[39mif\u001b[39;00m (\n\u001b[0;32m   6198\u001b[0m     name \u001b[39mnot\u001b[39;00m \u001b[39min\u001b[39;00m \u001b[39mself\u001b[39m\u001b[39m.\u001b[39m_internal_names_set\n\u001b[0;32m   6199\u001b[0m     \u001b[39mand\u001b[39;00m name \u001b[39mnot\u001b[39;00m \u001b[39min\u001b[39;00m \u001b[39mself\u001b[39m\u001b[39m.\u001b[39m_metadata\n\u001b[0;32m   6200\u001b[0m     \u001b[39mand\u001b[39;00m name \u001b[39mnot\u001b[39;00m \u001b[39min\u001b[39;00m \u001b[39mself\u001b[39m\u001b[39m.\u001b[39m_accessors\n\u001b[0;32m   6201\u001b[0m     \u001b[39mand\u001b[39;00m \u001b[39mself\u001b[39m\u001b[39m.\u001b[39m_info_axis\u001b[39m.\u001b[39m_can_hold_identifiers_and_holds_name(name)\n\u001b[0;32m   6202\u001b[0m ):\n\u001b[0;32m   6203\u001b[0m     \u001b[39mreturn\u001b[39;00m \u001b[39mself\u001b[39m[name]\n\u001b[1;32m-> 6204\u001b[0m \u001b[39mreturn\u001b[39;00m \u001b[39mobject\u001b[39;49m\u001b[39m.\u001b[39;49m\u001b[39m__getattribute__\u001b[39;49m(\u001b[39mself\u001b[39;49m, name)\n",
      "\u001b[1;31mAttributeError\u001b[0m: 'DataFrame' object has no attribute 'append'"
     ]
    }
   ],
   "source": [
    "print(\"---위아래 붙이기---\")\n",
    "df = df1.append(df2)\n",
    "df"
   ]
  },
  {
   "cell_type": "code",
   "execution_count": null,
   "metadata": {},
   "outputs": [
    {
     "name": "stdout",
     "output_type": "stream",
     "text": [
      "---concat메서드로 위아래 붙이기---\n"
     ]
    },
    {
     "data": {
      "text/html": [
       "<div>\n",
       "<style scoped>\n",
       "    .dataframe tbody tr th:only-of-type {\n",
       "        vertical-align: middle;\n",
       "    }\n",
       "\n",
       "    .dataframe tbody tr th {\n",
       "        vertical-align: top;\n",
       "    }\n",
       "\n",
       "    .dataframe thead th {\n",
       "        text-align: right;\n",
       "    }\n",
       "</style>\n",
       "<table border=\"1\" class=\"dataframe\">\n",
       "  <thead>\n",
       "    <tr style=\"text-align: right;\">\n",
       "      <th></th>\n",
       "      <th>종가</th>\n",
       "      <th>거래량</th>\n",
       "    </tr>\n",
       "  </thead>\n",
       "  <tbody>\n",
       "    <tr>\n",
       "      <th>2019-06-21</th>\n",
       "      <td>113000</td>\n",
       "      <td>555850</td>\n",
       "    </tr>\n",
       "    <tr>\n",
       "      <th>2019-06-20</th>\n",
       "      <td>111500</td>\n",
       "      <td>282163</td>\n",
       "    </tr>\n",
       "    <tr>\n",
       "      <th>2019-06-19</th>\n",
       "      <td>110000</td>\n",
       "      <td>109000</td>\n",
       "    </tr>\n",
       "    <tr>\n",
       "      <th>2019-06-18</th>\n",
       "      <td>483689</td>\n",
       "      <td>791946</td>\n",
       "    </tr>\n",
       "  </tbody>\n",
       "</table>\n",
       "</div>"
      ],
      "text/plain": [
       "                종가     거래량\n",
       "2019-06-21  113000  555850\n",
       "2019-06-20  111500  282163\n",
       "2019-06-19  110000  109000\n",
       "2019-06-18  483689  791946"
      ]
     },
     "execution_count": 6,
     "metadata": {},
     "output_type": "execute_result"
    }
   ],
   "source": [
    "# 데이터프레임이 여러 개인 경우 concat 함수를 사용하면 편리합니다.\n",
    "print(\"---concat메서드로 위아래 붙이기---\")\n",
    "df = pd.concat([df1, df2])\n",
    "df\n"
   ]
  },
  {
   "cell_type": "code",
   "execution_count": null,
   "metadata": {},
   "outputs": [
    {
     "name": "stdout",
     "output_type": "stream",
     "text": [
      "     업종    종목코드     종목명     현재가\n",
      "0  전기전자  005930    삼성전자   74400\n",
      "1    화학  051910    LG화학  896000\n",
      "2  전기전자  000660  SK하이닉스  101500\n",
      "     업종   등락률\n",
      "0    은행  2.92\n",
      "1    보험  0.37\n",
      "2    화학  0.06\n",
      "3  전기전자 -2.43\n"
     ]
    }
   ],
   "source": [
    "#Merge\n",
    "# 판다스의 merge는 데이터프레임을 '병합'합니다. \n",
    "# concat이 단순히 두 데이터프레임을 이어 붙이는 연결이라면 \n",
    "# merge는 특정 컬럼의 값을 기준으로 데이터를 병합합니다. \n",
    "from pandas import DataFrame\n",
    "import pandas as pd\n",
    "\n",
    "# 첫 번째 데이터프레임\n",
    "data = [\n",
    "    [\"전기전자\", \"005930\", \"삼성전자\", 74400],\n",
    "    [\"화학\", \"051910\", \"LG화학\", 896000],\n",
    "    [\"전기전자\", \"000660\", \"SK하이닉스\", 101500]\n",
    "]\n",
    "\n",
    "columns = [\"업종\", \"종목코드\", \"종목명\", \"현재가\"]\n",
    "df1 = DataFrame(data=data, columns=columns)\n",
    "\n",
    "# 두 번째 데이터프레임\n",
    "data = [\n",
    "    [\"은행\", 2.92],\n",
    "    [\"보험\", 0.37],\n",
    "    [\"화학\", 0.06],\n",
    "    [\"전기전자\", -2.43]\n",
    "]\n",
    "\n",
    "columns = [\"업종\",\"등락률\"]\n",
    "df2 = DataFrame(data=data, columns=columns)\n",
    "\n",
    "print( df1 )\n",
    "print( df2 )"
   ]
  },
  {
   "cell_type": "code",
   "execution_count": null,
   "metadata": {},
   "outputs": [
    {
     "name": "stdout",
     "output_type": "stream",
     "text": [
      "---merge메서드로 붙이기---\n"
     ]
    },
    {
     "data": {
      "text/html": [
       "<div>\n",
       "<style scoped>\n",
       "    .dataframe tbody tr th:only-of-type {\n",
       "        vertical-align: middle;\n",
       "    }\n",
       "\n",
       "    .dataframe tbody tr th {\n",
       "        vertical-align: top;\n",
       "    }\n",
       "\n",
       "    .dataframe thead th {\n",
       "        text-align: right;\n",
       "    }\n",
       "</style>\n",
       "<table border=\"1\" class=\"dataframe\">\n",
       "  <thead>\n",
       "    <tr style=\"text-align: right;\">\n",
       "      <th></th>\n",
       "      <th>업종</th>\n",
       "      <th>종목코드</th>\n",
       "      <th>종목명</th>\n",
       "      <th>현재가</th>\n",
       "      <th>등락률</th>\n",
       "    </tr>\n",
       "  </thead>\n",
       "  <tbody>\n",
       "    <tr>\n",
       "      <th>0</th>\n",
       "      <td>전기전자</td>\n",
       "      <td>005930</td>\n",
       "      <td>삼성전자</td>\n",
       "      <td>74400</td>\n",
       "      <td>-2.43</td>\n",
       "    </tr>\n",
       "    <tr>\n",
       "      <th>1</th>\n",
       "      <td>전기전자</td>\n",
       "      <td>000660</td>\n",
       "      <td>SK하이닉스</td>\n",
       "      <td>101500</td>\n",
       "      <td>-2.43</td>\n",
       "    </tr>\n",
       "    <tr>\n",
       "      <th>2</th>\n",
       "      <td>화학</td>\n",
       "      <td>051910</td>\n",
       "      <td>LG화학</td>\n",
       "      <td>896000</td>\n",
       "      <td>0.06</td>\n",
       "    </tr>\n",
       "  </tbody>\n",
       "</table>\n",
       "</div>"
      ],
      "text/plain": [
       "     업종    종목코드     종목명     현재가   등락률\n",
       "0  전기전자  005930    삼성전자   74400 -2.43\n",
       "1  전기전자  000660  SK하이닉스  101500 -2.43\n",
       "2    화학  051910    LG화학  896000  0.06"
      ]
     },
     "execution_count": 9,
     "metadata": {},
     "output_type": "execute_result"
    }
   ],
   "source": [
    "print(\"---merge메서드로 붙이기---\")\n",
    "df = pd.merge(left=df1, right=df2, on='업종')\n",
    "df"
   ]
  },
  {
   "cell_type": "code",
   "execution_count": null,
   "metadata": {},
   "outputs": [],
   "source": [
    "# how 파라미터를 사용해서 합치는 방법을 지정할 수 있습니다. \n",
    "# 'inner' 모드를 사용하면 df1과 df2의 교집합, \n",
    "# 'outer' 모드를 사용하면 합집합으로 병합됩니다. \n",
    "# 모드에 따른 동작은 concat에서 사용해 본 것처럼 일관성 있게 \n",
    "# 설계돼 있습니다. \n",
    "# 추가로 merge에서 사용할 수 있는 left, right 옵션에 \n",
    "# 대해 알아봅시다. 추가 옵션에 사용할 데이터를 우선 정의합니다. \n",
    "# 이전 코드에서 df1의 데이터만 일부 변경했습니다.\n",
    "# 첫 번째 데이터프레임\n",
    "data = [\n",
    "    [\"전기전자\", \"005930\", \"삼성전자\", 74400],\n",
    "    [\"화학\", \"051910\", \"LG화학\", 896000],\n",
    "    [\"서비스업\", \"035720\", \"카카오\", 121500]\n",
    "]\n",
    "\n",
    "columns = [\"업종\", \"종목코드\", \"종목명\", \"현재가\"]\n",
    "df1 = DataFrame(data=data, columns=columns)\n",
    "\n",
    "# 두 번째 데이터프레임\n",
    "data = [\n",
    "    [\"은행\", 2.92],\n",
    "    [\"보험\", 0.37],\n",
    "    [\"화학\", 0.06],\n",
    "    [\"전기전자\", -2.43]\n",
    "]\n",
    "\n",
    "columns = [\"업종\", \"등락률\"]\n",
    "df2 = DataFrame(data=data, columns=columns)"
   ]
  },
  {
   "cell_type": "code",
   "execution_count": null,
   "metadata": {},
   "outputs": [
    {
     "name": "stdout",
     "output_type": "stream",
     "text": [
      "---merge메서드에서 how=left지정하기---\n"
     ]
    },
    {
     "data": {
      "text/html": [
       "<div>\n",
       "<style scoped>\n",
       "    .dataframe tbody tr th:only-of-type {\n",
       "        vertical-align: middle;\n",
       "    }\n",
       "\n",
       "    .dataframe tbody tr th {\n",
       "        vertical-align: top;\n",
       "    }\n",
       "\n",
       "    .dataframe thead th {\n",
       "        text-align: right;\n",
       "    }\n",
       "</style>\n",
       "<table border=\"1\" class=\"dataframe\">\n",
       "  <thead>\n",
       "    <tr style=\"text-align: right;\">\n",
       "      <th></th>\n",
       "      <th>업종</th>\n",
       "      <th>종목코드</th>\n",
       "      <th>종목명</th>\n",
       "      <th>현재가</th>\n",
       "      <th>등락률</th>\n",
       "    </tr>\n",
       "  </thead>\n",
       "  <tbody>\n",
       "    <tr>\n",
       "      <th>0</th>\n",
       "      <td>전기전자</td>\n",
       "      <td>005930</td>\n",
       "      <td>삼성전자</td>\n",
       "      <td>74400</td>\n",
       "      <td>-2.43</td>\n",
       "    </tr>\n",
       "    <tr>\n",
       "      <th>1</th>\n",
       "      <td>화학</td>\n",
       "      <td>051910</td>\n",
       "      <td>LG화학</td>\n",
       "      <td>896000</td>\n",
       "      <td>0.06</td>\n",
       "    </tr>\n",
       "    <tr>\n",
       "      <th>2</th>\n",
       "      <td>전기전자</td>\n",
       "      <td>000660</td>\n",
       "      <td>SK하이닉스</td>\n",
       "      <td>101500</td>\n",
       "      <td>-2.43</td>\n",
       "    </tr>\n",
       "  </tbody>\n",
       "</table>\n",
       "</div>"
      ],
      "text/plain": [
       "     업종    종목코드     종목명     현재가   등락률\n",
       "0  전기전자  005930    삼성전자   74400 -2.43\n",
       "1    화학  051910    LG화학  896000  0.06\n",
       "2  전기전자  000660  SK하이닉스  101500 -2.43"
      ]
     },
     "execution_count": 10,
     "metadata": {},
     "output_type": "execute_result"
    }
   ],
   "source": [
    "# 두 데이터프레임을 병합할 때 left 옵션을 사용해 보겠습니다. \n",
    "# 이는 left 파라미터에 입력된 데이터프레임 df1을 기준으로 \n",
    "# 두 데이터프레임을 병합합니다.\n",
    "print(\"---merge메서드에서 how=left지정하기---\")\n",
    "df = pd.merge(left=df1, right=df2, \n",
    "    how='left', on='업종')\n",
    "df"
   ]
  },
  {
   "cell_type": "code",
   "execution_count": null,
   "metadata": {},
   "outputs": [
    {
     "name": "stdout",
     "output_type": "stream",
     "text": [
      "---merge메서드에서 how=right지정하기---\n"
     ]
    },
    {
     "data": {
      "text/html": [
       "<div>\n",
       "<style scoped>\n",
       "    .dataframe tbody tr th:only-of-type {\n",
       "        vertical-align: middle;\n",
       "    }\n",
       "\n",
       "    .dataframe tbody tr th {\n",
       "        vertical-align: top;\n",
       "    }\n",
       "\n",
       "    .dataframe thead th {\n",
       "        text-align: right;\n",
       "    }\n",
       "</style>\n",
       "<table border=\"1\" class=\"dataframe\">\n",
       "  <thead>\n",
       "    <tr style=\"text-align: right;\">\n",
       "      <th></th>\n",
       "      <th>업종</th>\n",
       "      <th>종목코드</th>\n",
       "      <th>종목명</th>\n",
       "      <th>현재가</th>\n",
       "      <th>등락률</th>\n",
       "    </tr>\n",
       "  </thead>\n",
       "  <tbody>\n",
       "    <tr>\n",
       "      <th>0</th>\n",
       "      <td>은행</td>\n",
       "      <td>NaN</td>\n",
       "      <td>NaN</td>\n",
       "      <td>NaN</td>\n",
       "      <td>2.92</td>\n",
       "    </tr>\n",
       "    <tr>\n",
       "      <th>1</th>\n",
       "      <td>보험</td>\n",
       "      <td>NaN</td>\n",
       "      <td>NaN</td>\n",
       "      <td>NaN</td>\n",
       "      <td>0.37</td>\n",
       "    </tr>\n",
       "    <tr>\n",
       "      <th>2</th>\n",
       "      <td>화학</td>\n",
       "      <td>051910</td>\n",
       "      <td>LG화학</td>\n",
       "      <td>896000.0</td>\n",
       "      <td>0.06</td>\n",
       "    </tr>\n",
       "    <tr>\n",
       "      <th>3</th>\n",
       "      <td>전기전자</td>\n",
       "      <td>005930</td>\n",
       "      <td>삼성전자</td>\n",
       "      <td>74400.0</td>\n",
       "      <td>-2.43</td>\n",
       "    </tr>\n",
       "    <tr>\n",
       "      <th>4</th>\n",
       "      <td>전기전자</td>\n",
       "      <td>000660</td>\n",
       "      <td>SK하이닉스</td>\n",
       "      <td>101500.0</td>\n",
       "      <td>-2.43</td>\n",
       "    </tr>\n",
       "  </tbody>\n",
       "</table>\n",
       "</div>"
      ],
      "text/plain": [
       "     업종    종목코드     종목명       현재가   등락률\n",
       "0    은행     NaN     NaN       NaN  2.92\n",
       "1    보험     NaN     NaN       NaN  0.37\n",
       "2    화학  051910    LG화학  896000.0  0.06\n",
       "3  전기전자  005930    삼성전자   74400.0 -2.43\n",
       "4  전기전자  000660  SK하이닉스  101500.0 -2.43"
      ]
     },
     "execution_count": 11,
     "metadata": {},
     "output_type": "execute_result"
    }
   ],
   "source": [
    "# 두 데이터프레임을 병합할 때 right 옵션을 사용해 보겠습니다. \n",
    "# 이는 right 파라미터에 입력된 데이터프레임 df1을 기준으로 \n",
    "# 두 데이터프레임을 병합합니다.\n",
    "print(\"---merge메서드에서 how=right지정하기---\")\n",
    "df = pd.merge(left=df1, right=df2, \n",
    "    how='right', on='업종')\n",
    "df"
   ]
  },
  {
   "cell_type": "code",
   "execution_count": null,
   "metadata": {},
   "outputs": [],
   "source": [
    "# 만약 두 데이터프레임의 컬럼이 다르다면 어떻게 해야 할까요? \n",
    "# 물론 컬럼의 이름을 변경하고 데이터프레임을 합칠 수 있지만, \n",
    "# 코드의 양만 많아집니다. \n",
    "# 다음 예제와 함께 merge의 옵션을 사용해서 한 번에 문제를 해결해 봅시다. \n",
    "# 이전 코드에서 두 번째 데이터프레임의 컬럼 이름만을 다르게 정의했습니다.\n",
    "# 첫 번째 데이터프레임\n",
    "data = [\n",
    "    [\"전기전자\", \"005930\", \"삼성전자\", 74400],\n",
    "    [\"화학\", \"051910\", \"LG화학\", 896000],\n",
    "    [\"서비스업\", \"035720\", \"카카오\", 121500]\n",
    "]\n",
    "\n",
    "columns = [\"업종\", \"종목코드\", \"종목명\", \"현재가\"]\n",
    "df1 = DataFrame(data=data, columns=columns)\n",
    "\n",
    "# 두 번째 데이터프레임\n",
    "data = [\n",
    "    [\"은행\", 2.92],\n",
    "    [\"보험\", 0.37],\n",
    "    [\"화학\", 0.06],\n",
    "    [\"전기전자\", -2.43]\n",
    "]\n",
    "\n",
    "columns = [\"항목\", \"등락률\"]\n",
    "df2 = DataFrame(data=data, columns=columns)"
   ]
  },
  {
   "cell_type": "code",
   "execution_count": null,
   "metadata": {},
   "outputs": [
    {
     "name": "stdout",
     "output_type": "stream",
     "text": [
      "---기준이 되는 컬럼명이 다른 경우---\n"
     ]
    },
    {
     "data": {
      "text/html": [
       "<div>\n",
       "<style scoped>\n",
       "    .dataframe tbody tr th:only-of-type {\n",
       "        vertical-align: middle;\n",
       "    }\n",
       "\n",
       "    .dataframe tbody tr th {\n",
       "        vertical-align: top;\n",
       "    }\n",
       "\n",
       "    .dataframe thead th {\n",
       "        text-align: right;\n",
       "    }\n",
       "</style>\n",
       "<table border=\"1\" class=\"dataframe\">\n",
       "  <thead>\n",
       "    <tr style=\"text-align: right;\">\n",
       "      <th></th>\n",
       "      <th>업종</th>\n",
       "      <th>종목코드</th>\n",
       "      <th>종목명</th>\n",
       "      <th>현재가</th>\n",
       "      <th>항목</th>\n",
       "      <th>등락률</th>\n",
       "    </tr>\n",
       "  </thead>\n",
       "  <tbody>\n",
       "    <tr>\n",
       "      <th>0</th>\n",
       "      <td>전기전자</td>\n",
       "      <td>005930</td>\n",
       "      <td>삼성전자</td>\n",
       "      <td>74400</td>\n",
       "      <td>전기전자</td>\n",
       "      <td>-2.43</td>\n",
       "    </tr>\n",
       "    <tr>\n",
       "      <th>1</th>\n",
       "      <td>화학</td>\n",
       "      <td>051910</td>\n",
       "      <td>LG화학</td>\n",
       "      <td>896000</td>\n",
       "      <td>화학</td>\n",
       "      <td>0.06</td>\n",
       "    </tr>\n",
       "  </tbody>\n",
       "</table>\n",
       "</div>"
      ],
      "text/plain": [
       "     업종    종목코드   종목명     현재가    항목   등락률\n",
       "0  전기전자  005930  삼성전자   74400  전기전자 -2.43\n",
       "1    화학  051910  LG화학  896000    화학  0.06"
      ]
     },
     "execution_count": 13,
     "metadata": {},
     "output_type": "execute_result"
    }
   ],
   "source": [
    "# 두 데이터프레임의 컬럼 이름이 다르기 때문에 합칠 기준이되는 각 컬럼의 이름을 \n",
    "# 모두 입력해야 합니다. \n",
    "# left_on와 right_on 파라미터에 두 컬럼 이름을 넣습니다.\n",
    "print(\"---기준이 되는 컬럼명이 다른 경우---\")\n",
    "df = pd.merge(left=df1, \n",
    "    right=df2, left_on='업종',\n",
    "    right_on='항목')\n",
    "df"
   ]
  },
  {
   "cell_type": "code",
   "execution_count": null,
   "metadata": {},
   "outputs": [
    {
     "data": {
      "text/html": [
       "<div>\n",
       "<style scoped>\n",
       "    .dataframe tbody tr th:only-of-type {\n",
       "        vertical-align: middle;\n",
       "    }\n",
       "\n",
       "    .dataframe tbody tr th {\n",
       "        vertical-align: top;\n",
       "    }\n",
       "\n",
       "    .dataframe thead th {\n",
       "        text-align: right;\n",
       "    }\n",
       "</style>\n",
       "<table border=\"1\" class=\"dataframe\">\n",
       "  <thead>\n",
       "    <tr style=\"text-align: right;\">\n",
       "      <th></th>\n",
       "      <th>key1</th>\n",
       "      <th>key2</th>\n",
       "      <th>data1</th>\n",
       "      <th>data2</th>\n",
       "    </tr>\n",
       "  </thead>\n",
       "  <tbody>\n",
       "    <tr>\n",
       "      <th>0</th>\n",
       "      <td>a</td>\n",
       "      <td>one</td>\n",
       "      <td>-1.124304</td>\n",
       "      <td>-1.559011</td>\n",
       "    </tr>\n",
       "    <tr>\n",
       "      <th>1</th>\n",
       "      <td>a</td>\n",
       "      <td>two</td>\n",
       "      <td>-1.602948</td>\n",
       "      <td>-0.264338</td>\n",
       "    </tr>\n",
       "    <tr>\n",
       "      <th>2</th>\n",
       "      <td>b</td>\n",
       "      <td>one</td>\n",
       "      <td>-0.585152</td>\n",
       "      <td>-0.610723</td>\n",
       "    </tr>\n",
       "    <tr>\n",
       "      <th>3</th>\n",
       "      <td>b</td>\n",
       "      <td>two</td>\n",
       "      <td>0.516357</td>\n",
       "      <td>0.225101</td>\n",
       "    </tr>\n",
       "    <tr>\n",
       "      <th>4</th>\n",
       "      <td>a</td>\n",
       "      <td>one</td>\n",
       "      <td>0.752153</td>\n",
       "      <td>-0.530584</td>\n",
       "    </tr>\n",
       "  </tbody>\n",
       "</table>\n",
       "</div>"
      ],
      "text/plain": [
       "  key1 key2     data1     data2\n",
       "0    a  one -1.124304 -1.559011\n",
       "1    a  two -1.602948 -0.264338\n",
       "2    b  one -0.585152 -0.610723\n",
       "3    b  two  0.516357  0.225101\n",
       "4    a  one  0.752153 -0.530584"
      ]
     },
     "execution_count": 14,
     "metadata": {},
     "output_type": "execute_result"
    }
   ],
   "source": [
    "#아래와 같은 간단한 데이터에 대한 통계를 구해봅니다. \n",
    "df = DataFrame({'key1':['a','a','b','b','a'], \n",
    "                'key2':['one','two','one','two','one'], \n",
    "                'data1':np.random.randn(5), \n",
    "                'data2':np.random.randn(5)})\n",
    "df"
   ]
  },
  {
   "cell_type": "code",
   "execution_count": null,
   "metadata": {},
   "outputs": [
    {
     "data": {
      "text/plain": [
       "<pandas.core.groupby.generic.SeriesGroupBy object at 0x000001F82BE33280>"
      ]
     },
     "execution_count": 15,
     "metadata": {},
     "output_type": "execute_result"
    }
   ],
   "source": [
    "#그룹으로 생성해서 집계된 데이터에 접근합니다. \n",
    "grouped = df.groupby(\"key1\")[\"data1\"] \n",
    "grouped "
   ]
  },
  {
   "cell_type": "code",
   "execution_count": null,
   "metadata": {},
   "outputs": [
    {
     "name": "stdout",
     "output_type": "stream",
     "text": [
      "key1\n",
      "a   -0.658367\n",
      "b   -0.034398\n",
      "Name: data1, dtype: float64\n",
      "key1\n",
      "a   -1.975100\n",
      "b   -0.068795\n",
      "Name: data1, dtype: float64\n",
      "key1\n",
      "a    3\n",
      "b    2\n",
      "Name: data1, dtype: int64\n"
     ]
    }
   ],
   "source": [
    "print(grouped.mean())\n",
    "print(grouped.sum())\n",
    "print(grouped.count())"
   ]
  },
  {
   "cell_type": "code",
   "execution_count": null,
   "metadata": {},
   "outputs": [],
   "source": []
  }
 ],
 "metadata": {
  "kernelspec": {
   "display_name": "Python 3",
   "language": "python",
   "name": "python3"
  },
  "language_info": {
   "codemirror_mode": {
    "name": "ipython",
    "version": 3
   },
   "file_extension": ".py",
   "mimetype": "text/x-python",
   "name": "python",
   "nbconvert_exporter": "python",
   "pygments_lexer": "ipython3",
   "version": "3.10.9"
  },
  "vscode": {
   "interpreter": {
    "hash": "369f2c481f4da34e4445cda3fffd2e751bd1c4d706f27375911949ba6bb62e1c"
   }
  }
 },
 "nbformat": 4,
 "nbformat_minor": 2
}
